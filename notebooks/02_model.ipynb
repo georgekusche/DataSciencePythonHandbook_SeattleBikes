{
 "cells": [
  {
   "cell_type": "code",
   "execution_count": null,
   "id": "148be607-034e-4741-b790-77170aa2f3a1",
   "metadata": {},
   "outputs": [],
   "source": [
    "# Seattle Bikes — Modeling\n",
    "Goal: build a simple baseline model on daily data with cross-validation.\n",
    "\n",
    "Sections\n",
    "1) Config & imports\n",
    "2) Laai daily data\n",
    "3) Feature engineering \n",
    "4) Bou X/y (train & test)\n",
    "5) Choose CV (KFold vs TimeSeriesSplit) - gaan miskien skiep vir tyd\n",
    "6) Fit & evaluate\n",
    "7) Inspect coefficients (statsmodels)\n"
   ]
  },
  {
   "cell_type": "code",
   "execution_count": null,
   "id": "6c2bf0cb-0376-41c0-9e35-c13d7b591b74",
   "metadata": {},
   "outputs": [],
   "source": [
    "import pandas as pd\n",
    "from pathlib import Path\n",
    "\n",
    "daily_path = Path(\"../data/processed/daily.csv\")\n",
    "assert daily_path.exists(), f\"Missing processed file: {daily_path}. Run 01_data_prep.ipynb first.\"\n",
    "\n",
    "daily = pd.read_csv(daily_path, parse_dates=[0], index_col=0)\n",
    "print(\"Loaded daily:\", daily.shape, \"| columns:\", list(daily.columns))\n",
    "\n"
   ]
  },
  {
   "cell_type": "code",
   "execution_count": null,
   "id": "60f94ff0-218a-4abc-97f2-4670b00b1dd2",
   "metadata": {},
   "outputs": [],
   "source": [
    "days = ['Mo','Tue','Wed', 'Thu', 'Fri', 'Sat', 'Sun' ]\n",
    "for i in range(7):\n",
    "    daily[days[i]] = (daily.index.dayofweek==i).astype(float)\n",
    "\n",
    "from pandas.tseries.holiday import USFederalHolidayCalendar\n",
    "cal = USFederalHolidayCalendar()\n",
    "start = daily.index.min().normalize()\n",
    "end   = daily.index.max().normalize()\n",
    "holidays = cal.holidays(start=start, end=end)\n",
    "\n",
    "daily['holiday'] = daily.index.normalize().isin(holidays).astype(float)"
   ]
  },
  {
   "cell_type": "code",
   "execution_count": null,
   "id": "2951a8c4-8953-44b6-bd26-39a51236b0a0",
   "metadata": {},
   "outputs": [],
   "source": [
    "daily.head(3)"
   ]
  },
  {
   "cell_type": "code",
   "execution_count": null,
   "id": "289cd4e6-754e-444e-a39d-04635198c406",
   "metadata": {},
   "outputs": [],
   "source": [
    "import numpy as np\n",
    "import pandas as pd\n",
    "\n",
    "def hours_of_daylight_index(index, latitude=47.61, axis=23.44):\n",
    "    \"\"\"\n",
    "    Vectorized daylight hours for a DatetimeIndex.\n",
    "    Uses a simple axial-tilt model (approximate, not astronomical).\n",
    "    \"\"\"\n",
    "    idx = pd.DatetimeIndex(index)\n",
    "    # strip timezone if present (we only care about the date)\n",
    "    if idx.tz is not None:\n",
    "        idx = idx.tz_convert(None).tz_localize(None)\n",
    "    # days since winter solstice (Dec 21, 2000)\n",
    "    days = (idx - pd.Timestamp(2000, 12, 21)) / np.timedelta64(1, \"D\")\n",
    "    phi = np.radians(latitude)\n",
    "    decl = np.radians(axis) * np.cos(2 * np.pi * days / 365.25)\n",
    "    m = 1.0 - np.tan(phi) * np.tan(decl)\n",
    "    m = np.clip(m, 0.0, 2.0)\n",
    "    daylight = 24.0 * np.degrees(np.arccos(1.0 - m)) / 180.0\n",
    "    # clamp to [0, 24] just in case of rounding\n",
    "    return np.clip(daylight, 0.0, 24.0).astype(float)\n",
    "\n",
    "daily = daily.copy()\n",
    "daily[\"daylight_hrs\"] = hours_of_daylight_index(daily.index)\n",
    "daily[\"daylight_hrs\"].describe()\n",
    "\n",
    "daily[\"daylight_hrs\"].plot(title=\"Estimated daylight hours\"); \n"
   ]
  },
  {
   "cell_type": "code",
   "execution_count": null,
   "id": "00e4082b-dc72-4a5e-860f-cea60982b67c",
   "metadata": {},
   "outputs": [],
   "source": [
    "daily['annual'] = (daily.index - daily.index[0]).days / 365.\n",
    "\n",
    "daily.head(5)\n"
   ]
  },
  {
   "cell_type": "code",
   "execution_count": null,
   "id": "5f613498-48b5-4aaa-aa36-d0b06d643b5a",
   "metadata": {},
   "outputs": [],
   "source": [
    "# ek is bewus dat om 'n weer (temperatuur, reenval, ens) dataset te join met die een kan die model baie verbeter, maar \n",
    "# besluit daarteen omrede ek eintlik net 'n gevoel vir Python en Github weer wil kry. \n",
    "# canonical feature list (adjust if you truly used 'Tues'/'Mo')\n",
    "expected = ['Mo','Tue','Wed','Thu','Fri','Sat','Sun','holiday','daylight_hrs','annual']\n",
    "\n",
    "present = [c for c in expected if c in daily.columns]\n",
    "missing = [c for c in expected if c not in daily.columns]\n",
    "if missing:\n",
    "    print(\"Missing features (check your column names):\", missing)\n",
    "   \n",
    "\n",
    "X = daily[present].astype(float)\n",
    "y = daily['Total'].astype(float)\n",
    "print(\"Features used:\", present)\n",
    "print(\"X shape:\", X.shape, \"| y shape:\", y.shape)\n"
   ]
  },
  {
   "cell_type": "code",
   "execution_count": null,
   "id": "ecea4cc1-dfbd-4745-af9e-1e7927721687",
   "metadata": {},
   "outputs": [],
   "source": [
    "from sklearn.linear_model import LinearRegression\n",
    "import pandas as pd\n",
    "\n",
    "\n",
    "daily = daily.copy()\n",
    "# linear regression, good enough for now boytjie.\n",
    "model = LinearRegression(fit_intercept=False)  # Omrede ons dummy variables gebruik, sal dit multicollinearity veroorsaak as ons nog 'n intercept ook insit\n",
    "model.fit(X, y)\n",
    "\n",
    "#\n",
    "daily['predicted'] = pd.Series(model.predict(X), index=daily.index)\n",
    "\n",
    "ax = daily[['Total', 'predicted']].plot(alpha=0.45, figsize=(10,4))\n",
    "ax.set_title(\"In-sample fit: Total vs Predicted\")\n",
    "\n",
    "from sklearn.metrics import r2_score, mean_squared_error\n",
    "import numpy as np\n",
    "\n",
    "r2 = r2_score(y, daily['predicted'])\n",
    "try:\n",
    "    \n",
    "    rmse = mean_squared_error(y, daily['predicted'], squared=False)\n",
    "except TypeError:\n",
    "  \n",
    "    rmse = np.sqrt(mean_squared_error(y, daily['predicted']))\n",
    "\n",
    "print(f\"R² (in-sample): {r2:.4f}  |  RMSE: {rmse:.2f}\")\n",
    "\n"
   ]
  },
  {
   "cell_type": "code",
   "execution_count": null,
   "id": "47b5c9d8-37ed-4678-a5c2-375bb408574b",
   "metadata": {},
   "outputs": [],
   "source": [
    "resid = daily['Total'] - daily['predicted']\n",
    "ax = resid.plot(figsize=(10,3), title=\"Residuals (in-sample)\")\n",
    "ax.axhline(0, linestyle='--')\n"
   ]
  },
  {
   "cell_type": "code",
   "execution_count": null,
   "id": "dcd2e78d-a0d0-4fcb-934d-60c44e90b156",
   "metadata": {},
   "outputs": [],
   "source": [
    "import numpy as np\n",
    "import pandas as pd\n",
    "\n",
    "assert hasattr(X, \"columns\"), \"X must be a DataFrame so we can label coefficients\"\n",
    "assert len(model.coef_) == X.shape[1], \"coef count must match number of feature columns\"\n",
    "\n",
    "params = pd.Series(model.coef_, index=X.columns).sort_values(ascending=False)\n",
    "\n",
    "\n",
    "params_df = (params.to_frame(\"coef\")\n",
    "                   .assign(abs=lambda d: d[\"coef\"].abs())\n",
    "                   .sort_values(\"abs\", ascending=False))\n",
    "display(params_df)\n",
    "\n"
   ]
  },
  {
   "cell_type": "code",
   "execution_count": null,
   "id": "9a5a81ba-7980-468a-bce8-a174107fe50b",
   "metadata": {},
   "outputs": [],
   "source": []
  }
 ],
 "metadata": {
  "kernelspec": {
   "display_name": "Python (dshbikes)",
   "language": "python",
   "name": "dshbikes"
  },
  "language_info": {
   "codemirror_mode": {
    "name": "ipython",
    "version": 3
   },
   "file_extension": ".py",
   "mimetype": "text/x-python",
   "name": "python",
   "nbconvert_exporter": "python",
   "pygments_lexer": "ipython3",
   "version": "3.12.3"
  }
 },
 "nbformat": 4,
 "nbformat_minor": 5
}
