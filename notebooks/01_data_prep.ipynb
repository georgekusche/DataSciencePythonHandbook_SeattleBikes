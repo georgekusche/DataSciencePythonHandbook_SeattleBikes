{
 "cells": [
  {
   "cell_type": "markdown",
   "id": "2df09e45-f505-4da6-a3b4-3243774dd8a8",
   "metadata": {},
   "source": [
    "# Aantal fietsryers oor 'n brug voorspelling in Python\n",
    "Goeie oefening om ou ML tegnieke te hersien en Python gewoond te raak."
   ]
  },
  {
   "cell_type": "code",
   "execution_count": 1,
   "id": "3941a4f9-2091-4023-8f26-c0e30e3b96c9",
   "metadata": {},
   "outputs": [],
   "source": [
    "import sys, pandas as pd, numpy as np, sklearn, statsmodels\n"
   ]
  },
  {
   "cell_type": "code",
   "execution_count": 2,
   "id": "025aec80-597e-4e6d-bcb6-8708b7812fb8",
   "metadata": {},
   "outputs": [
    {
     "name": "stdout",
     "output_type": "stream",
     "text": [
      "Python: 3.12.3 (main, Jun 18 2025, 17:59:45) [GCC 13.3.0]\n",
      "Python exe: /home/gak68/DataSciencePythonHandbook_SeattleBikes/.venv/bin/python\n",
      "CWD: /home/gak68/DataSciencePythonHandbook_SeattleBikes/notebooks\n",
      "Pandas: 2.3.1\n"
     ]
    }
   ],
   "source": [
    "import sys, os, pandas as pd\n",
    "\n",
    "print(\"Python:\", sys.version)\n",
    "print(\"Python exe:\", sys.executable)\n",
    "print(\"CWD:\", os.getcwd())         # should end with .../DataSciencePythonHandbook_SeattleBikes/notebooks\n",
    "print(\"Pandas:\", pd.__version__)\n"
   ]
  },
  {
   "cell_type": "markdown",
   "id": "861cc148-fe48-4300-b3e7-9baf363b8e1e",
   "metadata": {},
   "source": [
    "# Import data\n",
    "Ek begin dink ek hou van Python, dis baie intuitief!"
   ]
  },
  {
   "cell_type": "code",
   "execution_count": 37,
   "id": "bb979fa8-bfe9-4b20-a833-ff4227889aaf",
   "metadata": {},
   "outputs": [
    {
     "data": {
      "text/html": [
       "<div>\n",
       "<style scoped>\n",
       "    .dataframe tbody tr th:only-of-type {\n",
       "        vertical-align: middle;\n",
       "    }\n",
       "\n",
       "    .dataframe tbody tr th {\n",
       "        vertical-align: top;\n",
       "    }\n",
       "\n",
       "    .dataframe thead th {\n",
       "        text-align: right;\n",
       "    }\n",
       "</style>\n",
       "<table border=\"1\" class=\"dataframe\">\n",
       "  <thead>\n",
       "    <tr style=\"text-align: right;\">\n",
       "      <th></th>\n",
       "      <th>Fremont Bridge Sidewalks, south of N 34th St Total</th>\n",
       "      <th>Fremont Bridge Sidewalks, south of N 34th St Cyclist West Sidewalk</th>\n",
       "      <th>Fremont Bridge Sidewalks, south of N 34th St Cyclist East Sidewalk</th>\n",
       "    </tr>\n",
       "    <tr>\n",
       "      <th>Date</th>\n",
       "      <th></th>\n",
       "      <th></th>\n",
       "      <th></th>\n",
       "    </tr>\n",
       "  </thead>\n",
       "  <tbody>\n",
       "    <tr>\n",
       "      <th>2012-10-02 13:00:00</th>\n",
       "      <td>55.0</td>\n",
       "      <td>7.0</td>\n",
       "      <td>48.0</td>\n",
       "    </tr>\n",
       "    <tr>\n",
       "      <th>2012-10-02 14:00:00</th>\n",
       "      <td>130.0</td>\n",
       "      <td>55.0</td>\n",
       "      <td>75.0</td>\n",
       "    </tr>\n",
       "    <tr>\n",
       "      <th>2012-10-02 15:00:00</th>\n",
       "      <td>152.0</td>\n",
       "      <td>81.0</td>\n",
       "      <td>71.0</td>\n",
       "    </tr>\n",
       "    <tr>\n",
       "      <th>2012-10-02 16:00:00</th>\n",
       "      <td>278.0</td>\n",
       "      <td>167.0</td>\n",
       "      <td>111.0</td>\n",
       "    </tr>\n",
       "    <tr>\n",
       "      <th>2012-10-02 17:00:00</th>\n",
       "      <td>563.0</td>\n",
       "      <td>393.0</td>\n",
       "      <td>170.0</td>\n",
       "    </tr>\n",
       "    <tr>\n",
       "      <th>2012-10-02 18:00:00</th>\n",
       "      <td>381.0</td>\n",
       "      <td>236.0</td>\n",
       "      <td>145.0</td>\n",
       "    </tr>\n",
       "    <tr>\n",
       "      <th>2012-10-02 19:00:00</th>\n",
       "      <td>175.0</td>\n",
       "      <td>104.0</td>\n",
       "      <td>71.0</td>\n",
       "    </tr>\n",
       "    <tr>\n",
       "      <th>2012-10-02 20:00:00</th>\n",
       "      <td>86.0</td>\n",
       "      <td>51.0</td>\n",
       "      <td>35.0</td>\n",
       "    </tr>\n",
       "    <tr>\n",
       "      <th>2012-10-02 21:00:00</th>\n",
       "      <td>63.0</td>\n",
       "      <td>35.0</td>\n",
       "      <td>28.0</td>\n",
       "    </tr>\n",
       "    <tr>\n",
       "      <th>2012-10-02 22:00:00</th>\n",
       "      <td>42.0</td>\n",
       "      <td>27.0</td>\n",
       "      <td>15.0</td>\n",
       "    </tr>\n",
       "    <tr>\n",
       "      <th>2012-10-02 23:00:00</th>\n",
       "      <td>13.0</td>\n",
       "      <td>9.0</td>\n",
       "      <td>4.0</td>\n",
       "    </tr>\n",
       "    <tr>\n",
       "      <th>2012-10-03 00:00:00</th>\n",
       "      <td>13.0</td>\n",
       "      <td>9.0</td>\n",
       "      <td>4.0</td>\n",
       "    </tr>\n",
       "  </tbody>\n",
       "</table>\n",
       "</div>"
      ],
      "text/plain": [
       "                     Fremont Bridge Sidewalks, south of N 34th St Total  \\\n",
       "Date                                                                      \n",
       "2012-10-02 13:00:00                                               55.0    \n",
       "2012-10-02 14:00:00                                              130.0    \n",
       "2012-10-02 15:00:00                                              152.0    \n",
       "2012-10-02 16:00:00                                              278.0    \n",
       "2012-10-02 17:00:00                                              563.0    \n",
       "2012-10-02 18:00:00                                              381.0    \n",
       "2012-10-02 19:00:00                                              175.0    \n",
       "2012-10-02 20:00:00                                               86.0    \n",
       "2012-10-02 21:00:00                                               63.0    \n",
       "2012-10-02 22:00:00                                               42.0    \n",
       "2012-10-02 23:00:00                                               13.0    \n",
       "2012-10-03 00:00:00                                               13.0    \n",
       "\n",
       "                     Fremont Bridge Sidewalks, south of N 34th St Cyclist West Sidewalk  \\\n",
       "Date                                                                                      \n",
       "2012-10-02 13:00:00                                                7.0                    \n",
       "2012-10-02 14:00:00                                               55.0                    \n",
       "2012-10-02 15:00:00                                               81.0                    \n",
       "2012-10-02 16:00:00                                              167.0                    \n",
       "2012-10-02 17:00:00                                              393.0                    \n",
       "2012-10-02 18:00:00                                              236.0                    \n",
       "2012-10-02 19:00:00                                              104.0                    \n",
       "2012-10-02 20:00:00                                               51.0                    \n",
       "2012-10-02 21:00:00                                               35.0                    \n",
       "2012-10-02 22:00:00                                               27.0                    \n",
       "2012-10-02 23:00:00                                                9.0                    \n",
       "2012-10-03 00:00:00                                                9.0                    \n",
       "\n",
       "                     Fremont Bridge Sidewalks, south of N 34th St Cyclist East Sidewalk  \n",
       "Date                                                                                     \n",
       "2012-10-02 13:00:00                                               48.0                   \n",
       "2012-10-02 14:00:00                                               75.0                   \n",
       "2012-10-02 15:00:00                                               71.0                   \n",
       "2012-10-02 16:00:00                                              111.0                   \n",
       "2012-10-02 17:00:00                                              170.0                   \n",
       "2012-10-02 18:00:00                                              145.0                   \n",
       "2012-10-02 19:00:00                                               71.0                   \n",
       "2012-10-02 20:00:00                                               35.0                   \n",
       "2012-10-02 21:00:00                                               28.0                   \n",
       "2012-10-02 22:00:00                                               15.0                   \n",
       "2012-10-02 23:00:00                                                4.0                   \n",
       "2012-10-03 00:00:00                                                4.0                   "
      ]
     },
     "execution_count": 37,
     "metadata": {},
     "output_type": "execute_result"
    }
   ],
   "source": [
    "import pandas as pd\n",
    "\n",
    "# wd is reeds ingestel\n",
    "# raw_path = \"../data/raw/fremont_hourly.csv\"  \n",
    "df = pd.read_csv(\n",
    "    \"../data/raw/fremont_hourly.csv\",\n",
    "    index_col=\"Date\",\n",
    "    parse_dates=True,\n",
    "    date_format=\"%m/%d/%Y %I:%M:%S %p\",  #lyk my in python kan mens n komma aan die einde los, nie soos R nie\n",
    ")\n",
    "#df = df.set_index(\"Date\").sort_index()\n",
    "\n",
    "\n",
    "\n",
    "df=df.sort_index(ascending=True)\n",
    "\n",
    "df.head(12)\n",
    "\n",
    "\n",
    "\n"
   ]
  },
  {
   "cell_type": "code",
   "execution_count": 22,
   "id": "b0e2a121-1927-4c2e-8164-183d9804ed11",
   "metadata": {},
   "outputs": [
    {
     "data": {
      "text/plain": [
       "(True,\n",
       " 'datetime64',\n",
       " DatetimeIndex(['2012-10-02 13:00:00', '2012-10-02 14:00:00',\n",
       "                '2012-10-02 15:00:00'],\n",
       "               dtype='datetime64[ns]', name='Date', freq=None))"
      ]
     },
     "execution_count": 22,
     "metadata": {},
     "output_type": "execute_result"
    }
   ],
   "source": [
    "df.index.is_monotonic_increasing, df.index.inferred_type, df.index[:3] #looks good"
   ]
  },
  {
   "cell_type": "code",
   "execution_count": 38,
   "id": "412d884c-f430-4bd5-abb4-5d0fcc87ac9e",
   "metadata": {},
   "outputs": [],
   "source": [
    "daily=pd.DataFrame\n",
    "daily=df.resample('D').sum()"
   ]
  },
  {
   "cell_type": "code",
   "execution_count": 39,
   "id": "62321b53-704a-43bd-9015-6f8e078bac62",
   "metadata": {},
   "outputs": [
    {
     "data": {
      "text/html": [
       "<div>\n",
       "<style scoped>\n",
       "    .dataframe tbody tr th:only-of-type {\n",
       "        vertical-align: middle;\n",
       "    }\n",
       "\n",
       "    .dataframe tbody tr th {\n",
       "        vertical-align: top;\n",
       "    }\n",
       "\n",
       "    .dataframe thead th {\n",
       "        text-align: right;\n",
       "    }\n",
       "</style>\n",
       "<table border=\"1\" class=\"dataframe\">\n",
       "  <thead>\n",
       "    <tr style=\"text-align: right;\">\n",
       "      <th></th>\n",
       "      <th>Fremont Bridge Sidewalks, south of N 34th St Total</th>\n",
       "      <th>Fremont Bridge Sidewalks, south of N 34th St Cyclist West Sidewalk</th>\n",
       "      <th>Fremont Bridge Sidewalks, south of N 34th St Cyclist East Sidewalk</th>\n",
       "    </tr>\n",
       "    <tr>\n",
       "      <th>Date</th>\n",
       "      <th></th>\n",
       "      <th></th>\n",
       "      <th></th>\n",
       "    </tr>\n",
       "  </thead>\n",
       "  <tbody>\n",
       "    <tr>\n",
       "      <th>2012-10-02</th>\n",
       "      <td>1938.0</td>\n",
       "      <td>1165.0</td>\n",
       "      <td>773.0</td>\n",
       "    </tr>\n",
       "    <tr>\n",
       "      <th>2012-10-03</th>\n",
       "      <td>3521.0</td>\n",
       "      <td>1761.0</td>\n",
       "      <td>1760.0</td>\n",
       "    </tr>\n",
       "    <tr>\n",
       "      <th>2012-10-04</th>\n",
       "      <td>3475.0</td>\n",
       "      <td>1767.0</td>\n",
       "      <td>1708.0</td>\n",
       "    </tr>\n",
       "  </tbody>\n",
       "</table>\n",
       "</div>"
      ],
      "text/plain": [
       "            Fremont Bridge Sidewalks, south of N 34th St Total  \\\n",
       "Date                                                             \n",
       "2012-10-02                                             1938.0    \n",
       "2012-10-03                                             3521.0    \n",
       "2012-10-04                                             3475.0    \n",
       "\n",
       "            Fremont Bridge Sidewalks, south of N 34th St Cyclist West Sidewalk  \\\n",
       "Date                                                                             \n",
       "2012-10-02                                             1165.0                    \n",
       "2012-10-03                                             1761.0                    \n",
       "2012-10-04                                             1767.0                    \n",
       "\n",
       "            Fremont Bridge Sidewalks, south of N 34th St Cyclist East Sidewalk  \n",
       "Date                                                                            \n",
       "2012-10-02                                              773.0                   \n",
       "2012-10-03                                             1760.0                   \n",
       "2012-10-04                                             1708.0                   "
      ]
     },
     "execution_count": 39,
     "metadata": {},
     "output_type": "execute_result"
    }
   ],
   "source": [
    "daily.head(3)"
   ]
  },
  {
   "cell_type": "code",
   "execution_count": 40,
   "id": "362d8136-6c25-4d89-91b0-df1b527174e3",
   "metadata": {},
   "outputs": [],
   "source": [
    "daily['Total']=daily.sum(axis=1)\n",
    "daily=daily[['Total']]"
   ]
  },
  {
   "cell_type": "code",
   "execution_count": 41,
   "id": "cc2b381a-7648-4676-9d69-5bc3954f9e48",
   "metadata": {},
   "outputs": [
    {
     "data": {
      "text/html": [
       "<div>\n",
       "<style scoped>\n",
       "    .dataframe tbody tr th:only-of-type {\n",
       "        vertical-align: middle;\n",
       "    }\n",
       "\n",
       "    .dataframe tbody tr th {\n",
       "        vertical-align: top;\n",
       "    }\n",
       "\n",
       "    .dataframe thead th {\n",
       "        text-align: right;\n",
       "    }\n",
       "</style>\n",
       "<table border=\"1\" class=\"dataframe\">\n",
       "  <thead>\n",
       "    <tr style=\"text-align: right;\">\n",
       "      <th></th>\n",
       "      <th>Total</th>\n",
       "    </tr>\n",
       "    <tr>\n",
       "      <th>Date</th>\n",
       "      <th></th>\n",
       "    </tr>\n",
       "  </thead>\n",
       "  <tbody>\n",
       "    <tr>\n",
       "      <th>2012-10-02</th>\n",
       "      <td>3876.0</td>\n",
       "    </tr>\n",
       "    <tr>\n",
       "      <th>2012-10-03</th>\n",
       "      <td>7042.0</td>\n",
       "    </tr>\n",
       "    <tr>\n",
       "      <th>2012-10-04</th>\n",
       "      <td>6950.0</td>\n",
       "    </tr>\n",
       "    <tr>\n",
       "      <th>2012-10-05</th>\n",
       "      <td>6296.0</td>\n",
       "    </tr>\n",
       "  </tbody>\n",
       "</table>\n",
       "</div>"
      ],
      "text/plain": [
       "             Total\n",
       "Date              \n",
       "2012-10-02  3876.0\n",
       "2012-10-03  7042.0\n",
       "2012-10-04  6950.0\n",
       "2012-10-05  6296.0"
      ]
     },
     "execution_count": 41,
     "metadata": {},
     "output_type": "execute_result"
    }
   ],
   "source": [
    "daily.head(4)"
   ]
  },
  {
   "cell_type": "code",
   "execution_count": 42,
   "id": "3e618c8e-d78f-44e1-a3cf-f4f251c87a0f",
   "metadata": {},
   "outputs": [
    {
     "name": "stdout",
     "output_type": "stream",
     "text": [
      "CWD: /home/gak68/DataSciencePythonHandbook_SeattleBikes/notebooks\n",
      "Wrote: ../data/processed/daily.csv | rows: 4686\n"
     ]
    }
   ],
   "source": [
    "from pathlib import Path\n",
    "import os\n",
    "\n",
    "print(\"CWD:\", os.getcwd())  \n",
    "\n",
    "daily_path = Path(\"../data/processed/daily.csv\")\n",
    "daily_path.parent.mkdir(parents=True, exist_ok=True) \n",
    "daily.to_csv(daily_path)  # save!\n",
    "print(\"Wrote:\", daily_path, \"| rows:\", len(daily))\n"
   ]
  },
  {
   "cell_type": "code",
   "execution_count": null,
   "id": "1162de05-b41c-4aa5-a15a-a0bf4665be67",
   "metadata": {},
   "outputs": [],
   "source": []
  }
 ],
 "metadata": {
  "kernelspec": {
   "display_name": "Python (dshbikes)",
   "language": "python",
   "name": "dshbikes"
  },
  "language_info": {
   "codemirror_mode": {
    "name": "ipython",
    "version": 3
   },
   "file_extension": ".py",
   "mimetype": "text/x-python",
   "name": "python",
   "nbconvert_exporter": "python",
   "pygments_lexer": "ipython3",
   "version": "3.12.3"
  }
 },
 "nbformat": 4,
 "nbformat_minor": 5
}
