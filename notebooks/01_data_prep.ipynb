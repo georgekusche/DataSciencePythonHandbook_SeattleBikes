{
 "cells": [
  {
   "cell_type": "code",
   "execution_count": 1,
   "id": "3941a4f9-2091-4023-8f26-c0e30e3b96c9",
   "metadata": {},
   "outputs": [],
   "source": [
    "import sys, pandas as pd, numpy as np, sklearn, statsmodels\n"
   ]
  },
  {
   "cell_type": "code",
   "execution_count": null,
   "id": "025aec80-597e-4e6d-bcb6-8708b7812fb8",
   "metadata": {},
   "outputs": [],
   "source": []
  }
 ],
 "metadata": {
  "kernelspec": {
   "display_name": "Python (dshbikes)",
   "language": "python",
   "name": "dshbikes"
  },
  "language_info": {
   "codemirror_mode": {
    "name": "ipython",
    "version": 3
   },
   "file_extension": ".py",
   "mimetype": "text/x-python",
   "name": "python",
   "nbconvert_exporter": "python",
   "pygments_lexer": "ipython3",
   "version": "3.12.3"
  }
 },
 "nbformat": 4,
 "nbformat_minor": 5
}
